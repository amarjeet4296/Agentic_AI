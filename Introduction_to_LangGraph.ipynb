{
  "nbformat": 4,
  "nbformat_minor": 0,
  "metadata": {
    "colab": {
      "provenance": []
    },
    "kernelspec": {
      "name": "python3",
      "display_name": "Python 3"
    },
    "language_info": {
      "name": "python"
    }
  },
  "cells": [
    {
      "cell_type": "code",
      "source": [
        "# pip install -U langgraph\n",
        "%pip install -qU langgraph\n",
        "%pip install -qU langchain-openai\n",
        "%pip install -qU langchain\n",
        "%pip install -qU langchain-groq\n",
        "%pip install -qU python-dotenv"
      ],
      "metadata": {
        "id": "ZZ0zEUDnBU44"
      },
      "execution_count": 86,
      "outputs": []
    },
    {
      "cell_type": "code",
      "source": [
        "import os\n",
        "from typing import TypedDict, List\n",
        "from langgraph.graph import StateGraph, END\n",
        "from langchain_openai import ChatOpenAI\n",
        "from langchain_groq import ChatGroq\n",
        "from langchain.prompts import PromptTemplate\n",
        "from langchain.schema import HumanMessage\n",
        "from langchain_core.runnables.graph import MermaidDrawMethod\n",
        "\n",
        "groq_api_key =  \"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\""
      ],
      "metadata": {
        "id": "vv604crMBh1o"
      },
      "execution_count": 87,
      "outputs": []
    },
    {
      "cell_type": "markdown",
      "source": [
        "##Intialize LLM"
      ],
      "metadata": {
        "id": "yAiammaSGxYz"
      }
    },
    {
      "cell_type": "code",
      "source": [
        "class State(TypedDict):\n",
        "  text : str\n",
        "  classification : str\n",
        "  entities : List[str]\n",
        "  summary: str\n",
        "\n",
        "# llm = ChatOpenAI(model = \"gpt-4o-mini\", temperature=0, openai_api_key=openai_api_key)\n",
        "llm = ChatGroq(model = \"llama3-8b-8192\", temperature=0.5, groq_api_key=groq_api_key)\n",
        "\n"
      ],
      "metadata": {
        "id": "LAotNgedDVYl"
      },
      "execution_count": 94,
      "outputs": []
    },
    {
      "cell_type": "markdown",
      "source": [
        "##Node Functionality"
      ],
      "metadata": {
        "id": "a8T9UTd4J3zg"
      }
    },
    {
      "cell_type": "code",
      "source": [
        "def classification_node(state: State):\n",
        "  prompt = PromptTemplate(\n",
        "      input_variables=['text'],\n",
        "      template=\"classify the following text into one of the categories: News, Blog, Research \\n\\n{text}\" # Added {text} to the template\n",
        "  )\n",
        "  message = HumanMessage(content=prompt.format(text = state['text']))\n",
        "  print(\"Classification Node - Sending Message to LLM:\") # Debug print\n",
        "  print(message) # Debug print the message object\n",
        "  raw_classification_output = llm.invoke([message]).content\n",
        "  print(\"Raw Classification Output:\", raw_classification_output)\n",
        "  classification = raw_classification_output.strip()\n",
        "  return {\"classification\":classification}\n",
        "\n",
        "def entity_extraction_node(state:State):\n",
        "  prompt = PromptTemplate(\n",
        "      input_variables=['text'],\n",
        "      template = \"Extract all the entites(person, org, loc) from the following text \\n\\n{text}\") # Added {text} to the template\n",
        "\n",
        "  message= HumanMessage(content= prompt.format(text=state['text']))\n",
        "  print(\"Entity Extraction Node - Sending Message to LLM:\") # Debug print\n",
        "  print(message) # Debug print the message object\n",
        "  raw_entity_output = llm.invoke([message]).content # Storing raw output\n",
        "  print(\"Raw Entity Output:\", raw_entity_output) # Debug print raw output\n",
        "  entities = raw_entity_output.strip().split(\", \")\n",
        "  return {\"entities\":entities}\n",
        "\n",
        "def summary_node(state:State):\n",
        "  prompt = PromptTemplate(\n",
        "      input_variable=['text'],\n",
        "      template=\"summary of the following text in a one short sentence \\n\\n{text}\" # Added {text} to the template\n",
        "  )\n",
        "  message=HumanMessage(content=prompt.format(text=state['text']))\n",
        "  print(\"Summary Node - Sending Message to LLM:\") # Debug print\n",
        "  print(message) # Debug print the message object\n",
        "  raw_summary_output = llm.invoke([message]).content # Storing raw output\n",
        "  print(\"Raw Summary Output:\", raw_summary_output) # Debug print raw output\n",
        "  summary = raw_summary_output.strip()\n",
        "  return {\"summary\":summary}"
      ],
      "metadata": {
        "id": "rTSoG5wHHdTi"
      },
      "execution_count": 100,
      "outputs": []
    },
    {
      "cell_type": "markdown",
      "source": [
        "##Tools and build workflows"
      ],
      "metadata": {
        "id": "0vYHWJsKOMfn"
      }
    },
    {
      "cell_type": "code",
      "source": [
        "workflow = StateGraph(State)\n",
        "workflow.add_node(\"classify\", classification_node)\n",
        "workflow.add_node(\"entity\", entity_extraction_node)\n",
        "workflow.add_node(\"summarize\", summary_node)\n",
        "\n",
        "workflow.set_entry_point(\"classify\")\n",
        "workflow.add_edge(\"classify\", \"entity\")\n",
        "workflow.add_edge(\"entity\", \"summarize\")\n",
        "workflow.add_edge(\"summarize\", END)"
      ],
      "metadata": {
        "colab": {
          "base_uri": "https://localhost:8080/"
        },
        "id": "3y0wPJgFKC1n",
        "outputId": "74a9a9d5-7e85-49ab-d929-f1a1ba3cf4f8"
      },
      "execution_count": 101,
      "outputs": [
        {
          "output_type": "execute_result",
          "data": {
            "text/plain": [
              "<langgraph.graph.state.StateGraph at 0x7d52f827d110>"
            ]
          },
          "metadata": {},
          "execution_count": 101
        }
      ]
    },
    {
      "cell_type": "code",
      "source": [
        "app = workflow.compile()"
      ],
      "metadata": {
        "id": "t6-q_Nz9PL2n"
      },
      "execution_count": 102,
      "outputs": []
    },
    {
      "cell_type": "code",
      "source": [
        "from IPython.display import display, Image\n",
        "display(\n",
        "    Image(\n",
        "        app.get_graph().draw_mermaid_png(\n",
        "            draw_method=MermaidDrawMethod.API,\n",
        "        )\n",
        "    )\n",
        ")\n"
      ],
      "metadata": {
        "colab": {
          "base_uri": "https://localhost:8080/",
          "height": 449
        },
        "id": "_f2PMzw3Vd_Z",
        "outputId": "d56e4a9a-e57e-45f3-aa1f-64f3924ddd4a"
      },
      "execution_count": 103,
      "outputs": [
        {
          "output_type": "display_data",
          "data": {
            "image/png": "[encoded data removed]",
            "text/plain": [
              "<IPython.core.display.Image object>"
            ]
          },
          "metadata": {}
        }
      ]
    },
    {
      "cell_type": "markdown",
      "source": [
        "## Testing pipeline"
      ],
      "metadata": {
        "id": "RLKslsolPcEn"
      }
    },
    {
      "cell_type": "code",
      "source": [
        "\n",
        "text = \"Technology and innovation have become the cornerstone of modern progress, revolutionizing every aspect of our daily lives—from communication and healthcare to transportation and education. The rapid advancement of artificial intelligence, robotics, and data science is not only transforming industries but also redefining how people interact with the world. With innovation driving efficiency, accessibility, and sustainability, businesses and governments alike are investing heavily in digital transformation to stay competitive. As technology continues to evolve, it presents both immense opportunities and complex challenges that require thoughtful integration, ethical responsibility, and a future-focused mindset.\"\n",
        "state_input = {\"text\": text}\n",
        "result = app.invoke(state_input)\n",
        "\n",
        "print(\"classification:\", result['classification'])\n",
        "print(\"entities:\", result['entities'])\n",
        "print(\"summary:\", result['summary'])\n"
      ],
      "metadata": {
        "colab": {
          "base_uri": "https://localhost:8080/"
        },
        "id": "QGy2W9kdPYwS",
        "outputId": "de0fa8c2-4a65-4b75-e5c8-50abbffe5ef9"
      },
      "execution_count": 104,
      "outputs": [
        {
          "output_type": "stream",
          "name": "stdout",
          "text": [
            "Classification Node - Sending Message to LLM:\n",
            "content='classify the following text into one of the categories: News, Blog, Research \\n\\nTechnology and innovation have become the cornerstone of modern progress, revolutionizing every aspect of our daily lives—from communication and healthcare to transportation and education. The rapid advancement of artificial intelligence, robotics, and data science is not only transforming industries but also redefining how people interact with the world. With innovation driving efficiency, accessibility, and sustainability, businesses and governments alike are investing heavily in digital transformation to stay competitive. As technology continues to evolve, it presents both immense opportunities and complex challenges that require thoughtful integration, ethical responsibility, and a future-focused mindset.' additional_kwargs={} response_metadata={}\n",
            "Raw Classification Output: I would classify this text as \"Blog\". The text is written in a general and informative style, with a focus on discussing the impact of technology and innovation on society. It does not appear to be a news article, as it does not report on specific events or incidents, and it does not contain the level of detail and analysis typically found in research papers. The text is more conversational and opinion-based, making it a good fit for a blog post.\n",
            "Entity Extraction Node - Sending Message to LLM:\n",
            "content='Extract all the entites(person, org, loc) from the following text \\n\\nTechnology and innovation have become the cornerstone of modern progress, revolutionizing every aspect of our daily lives—from communication and healthcare to transportation and education. The rapid advancement of artificial intelligence, robotics, and data science is not only transforming industries but also redefining how people interact with the world. With innovation driving efficiency, accessibility, and sustainability, businesses and governments alike are investing heavily in digital transformation to stay competitive. As technology continues to evolve, it presents both immense opportunities and complex challenges that require thoughtful integration, ethical responsibility, and a future-focused mindset.' additional_kwargs={} response_metadata={}\n",
            "Raw Entity Output: Here are the extracted entities:\n",
            "\n",
            "**Person**: None\n",
            "\n",
            "**Organization**: None\n",
            "\n",
            "**Location**: None\n",
            "\n",
            "**Other entities**:\n",
            "\n",
            "* Technology\n",
            "* Innovation\n",
            "* Artificial intelligence\n",
            "* Robotics\n",
            "* Data science\n",
            "* Businesses\n",
            "* Governments\n",
            "Summary Node - Sending Message to LLM:\n",
            "content='summary of the following text in a one short sentence \\n\\nTechnology and innovation have become the cornerstone of modern progress, revolutionizing every aspect of our daily lives—from communication and healthcare to transportation and education. The rapid advancement of artificial intelligence, robotics, and data science is not only transforming industries but also redefining how people interact with the world. With innovation driving efficiency, accessibility, and sustainability, businesses and governments alike are investing heavily in digital transformation to stay competitive. As technology continues to evolve, it presents both immense opportunities and complex challenges that require thoughtful integration, ethical responsibility, and a future-focused mindset.' additional_kwargs={} response_metadata={}\n",
            "Raw Summary Output: Here is a one-sentence summary of the text:\n",
            "\n",
            "Technology and innovation are transforming all aspects of modern life, presenting both opportunities and challenges that require thoughtful integration, ethical responsibility, and a forward-thinking approach.\n",
            "classification: I would classify this text as \"Blog\". The text is written in a general and informative style, with a focus on discussing the impact of technology and innovation on society. It does not appear to be a news article, as it does not report on specific events or incidents, and it does not contain the level of detail and analysis typically found in research papers. The text is more conversational and opinion-based, making it a good fit for a blog post.\n",
            "entities: ['Here are the extracted entities:\\n\\n**Person**: None\\n\\n**Organization**: None\\n\\n**Location**: None\\n\\n**Other entities**:\\n\\n* Technology\\n* Innovation\\n* Artificial intelligence\\n* Robotics\\n* Data science\\n* Businesses\\n* Governments']\n",
            "summary: Here is a one-sentence summary of the text:\n",
            "\n",
            "Technology and innovation are transforming all aspects of modern life, presenting both opportunities and challenges that require thoughtful integration, ethical responsibility, and a forward-thinking approach.\n"
          ]
        }
      ]
    },
    {
      "cell_type": "code",
      "source": [],
      "metadata": {
        "id": "bMF91MqLQKo5"
      },
      "execution_count": 104,
      "outputs": []
    }
  ]
}